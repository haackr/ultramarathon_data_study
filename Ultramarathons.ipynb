{
 "cells": [
  {
   "cell_type": "markdown",
   "id": "85104dab-c741-4550-b7fa-c744ab1f11ed",
   "metadata": {},
   "source": [
    "# Ultramarathon Data Analysis"
   ]
  },
  {
   "cell_type": "markdown",
   "id": "5bd6573c-f18b-4dea-a86f-1bc14a104346",
   "metadata": {},
   "source": [
    "## Data Cleanup and Preperation\n",
    "\n",
    "This dataset can be downloaded from kaggle here: https://www.kaggle.com/datasets/aiaiaidavid/the-big-dataset-of-ultra-marathon-running/"
   ]
  },
  {
   "cell_type": "code",
   "execution_count": 1,
   "id": "3e01ddaf-a9cf-49c7-ac68-bd0da05ef744",
   "metadata": {},
   "outputs": [
    {
     "data": {
      "text/html": [
       "<div>\n",
       "<style scoped>\n",
       "    .dataframe tbody tr th:only-of-type {\n",
       "        vertical-align: middle;\n",
       "    }\n",
       "\n",
       "    .dataframe tbody tr th {\n",
       "        vertical-align: top;\n",
       "    }\n",
       "\n",
       "    .dataframe thead th {\n",
       "        text-align: right;\n",
       "    }\n",
       "</style>\n",
       "<table border=\"1\" class=\"dataframe\">\n",
       "  <thead>\n",
       "    <tr style=\"text-align: right;\">\n",
       "      <th></th>\n",
       "      <th>Year of event</th>\n",
       "      <th>Event dates</th>\n",
       "      <th>Event name</th>\n",
       "      <th>Event distance/length</th>\n",
       "      <th>Event number of finishers</th>\n",
       "      <th>Athlete performance</th>\n",
       "      <th>Athlete club</th>\n",
       "      <th>Athlete country</th>\n",
       "      <th>Athlete year of birth</th>\n",
       "      <th>Athlete gender</th>\n",
       "      <th>Athlete age category</th>\n",
       "      <th>Athlete average speed</th>\n",
       "      <th>Athlete ID</th>\n",
       "    </tr>\n",
       "  </thead>\n",
       "  <tbody>\n",
       "    <tr>\n",
       "      <th>0</th>\n",
       "      <td>2018</td>\n",
       "      <td>06.01.2018</td>\n",
       "      <td>Selva Costera (CHI)</td>\n",
       "      <td>50km</td>\n",
       "      <td>22</td>\n",
       "      <td>4:51:39 h</td>\n",
       "      <td>Tnfrc</td>\n",
       "      <td>CHI</td>\n",
       "      <td>1978.0</td>\n",
       "      <td>M</td>\n",
       "      <td>M35</td>\n",
       "      <td>10.286</td>\n",
       "      <td>0</td>\n",
       "    </tr>\n",
       "    <tr>\n",
       "      <th>1</th>\n",
       "      <td>2018</td>\n",
       "      <td>06.01.2018</td>\n",
       "      <td>Selva Costera (CHI)</td>\n",
       "      <td>50km</td>\n",
       "      <td>22</td>\n",
       "      <td>5:15:45 h</td>\n",
       "      <td>Roberto Echeverría</td>\n",
       "      <td>CHI</td>\n",
       "      <td>1981.0</td>\n",
       "      <td>M</td>\n",
       "      <td>M35</td>\n",
       "      <td>9.501</td>\n",
       "      <td>1</td>\n",
       "    </tr>\n",
       "    <tr>\n",
       "      <th>2</th>\n",
       "      <td>2018</td>\n",
       "      <td>06.01.2018</td>\n",
       "      <td>Selva Costera (CHI)</td>\n",
       "      <td>50km</td>\n",
       "      <td>22</td>\n",
       "      <td>5:16:44 h</td>\n",
       "      <td>Puro Trail Osorno</td>\n",
       "      <td>CHI</td>\n",
       "      <td>1987.0</td>\n",
       "      <td>M</td>\n",
       "      <td>M23</td>\n",
       "      <td>9.472</td>\n",
       "      <td>2</td>\n",
       "    </tr>\n",
       "    <tr>\n",
       "      <th>3</th>\n",
       "      <td>2018</td>\n",
       "      <td>06.01.2018</td>\n",
       "      <td>Selva Costera (CHI)</td>\n",
       "      <td>50km</td>\n",
       "      <td>22</td>\n",
       "      <td>5:34:13 h</td>\n",
       "      <td>Columbia</td>\n",
       "      <td>ARG</td>\n",
       "      <td>1976.0</td>\n",
       "      <td>M</td>\n",
       "      <td>M40</td>\n",
       "      <td>8.976</td>\n",
       "      <td>3</td>\n",
       "    </tr>\n",
       "    <tr>\n",
       "      <th>4</th>\n",
       "      <td>2018</td>\n",
       "      <td>06.01.2018</td>\n",
       "      <td>Selva Costera (CHI)</td>\n",
       "      <td>50km</td>\n",
       "      <td>22</td>\n",
       "      <td>5:54:14 h</td>\n",
       "      <td>Baguales Trail</td>\n",
       "      <td>CHI</td>\n",
       "      <td>1992.0</td>\n",
       "      <td>M</td>\n",
       "      <td>M23</td>\n",
       "      <td>8.469</td>\n",
       "      <td>4</td>\n",
       "    </tr>\n",
       "  </tbody>\n",
       "</table>\n",
       "</div>"
      ],
      "text/plain": [
       "   Year of event Event dates           Event name Event distance/length  \\\n",
       "0           2018  06.01.2018  Selva Costera (CHI)                  50km   \n",
       "1           2018  06.01.2018  Selva Costera (CHI)                  50km   \n",
       "2           2018  06.01.2018  Selva Costera (CHI)                  50km   \n",
       "3           2018  06.01.2018  Selva Costera (CHI)                  50km   \n",
       "4           2018  06.01.2018  Selva Costera (CHI)                  50km   \n",
       "\n",
       "   Event number of finishers Athlete performance        Athlete club  \\\n",
       "0                         22           4:51:39 h               Tnfrc   \n",
       "1                         22           5:15:45 h  Roberto Echeverría   \n",
       "2                         22           5:16:44 h   Puro Trail Osorno   \n",
       "3                         22           5:34:13 h            Columbia   \n",
       "4                         22           5:54:14 h      Baguales Trail   \n",
       "\n",
       "  Athlete country  Athlete year of birth Athlete gender Athlete age category  \\\n",
       "0             CHI                 1978.0              M                  M35   \n",
       "1             CHI                 1981.0              M                  M35   \n",
       "2             CHI                 1987.0              M                  M23   \n",
       "3             ARG                 1976.0              M                  M40   \n",
       "4             CHI                 1992.0              M                  M23   \n",
       "\n",
       "  Athlete average speed  Athlete ID  \n",
       "0                10.286           0  \n",
       "1                 9.501           1  \n",
       "2                 9.472           2  \n",
       "3                 8.976           3  \n",
       "4                 8.469           4  "
      ]
     },
     "execution_count": 1,
     "metadata": {},
     "output_type": "execute_result"
    }
   ],
   "source": [
    "import numpy as np\n",
    "import pandas as pd\n",
    "import re\n",
    "\n",
    "races = pd.read_csv('TWO_CENTURIES_OF_UM_RACES.csv', low_memory=False)\n",
    "races.head()"
   ]
  },
  {
   "cell_type": "markdown",
   "id": "60e7868b-1a4c-4006-83ca-e5b4e3a25281",
   "metadata": {},
   "source": [
    "### 1. Rename columns and convert data types"
   ]
  },
  {
   "cell_type": "code",
   "execution_count": 2,
   "id": "adc986fc-9f7a-4c8d-a541-39dc4fc169b3",
   "metadata": {},
   "outputs": [
    {
     "name": "stdout",
     "output_type": "stream",
     "text": [
      "<class 'pandas.core.frame.DataFrame'>\n",
      "RangeIndex: 7461195 entries, 0 to 7461194\n",
      "Data columns (total 13 columns):\n",
      " #   Column                    Dtype \n",
      "---  ------                    ----- \n",
      " 0   event_year                int64 \n",
      " 1   event_dates               object\n",
      " 2   event_name                object\n",
      " 3   event_distance_or_length  object\n",
      " 4   event_num_finishers       int64 \n",
      " 5   athlete_performance       object\n",
      " 6   athlete_club              object\n",
      " 7   athlete_country           object\n",
      " 8   athlete_birth_year        Int64 \n",
      " 9   athlete_gender            object\n",
      " 10  athlete_age_category      object\n",
      " 11  athlete_avg_speed         object\n",
      " 12  athlete_id                int64 \n",
      "dtypes: Int64(1), int64(3), object(9)\n",
      "memory usage: 747.1+ MB\n"
     ]
    }
   ],
   "source": [
    "races = races.rename(mapper={\n",
    "    'Year of event': 'event_year',\n",
    "    'Event dates': 'event_dates',\n",
    "    'Event name': 'event_name',\n",
    "    'Event distance/length': 'event_distance_or_length',\n",
    "    'Event number of finishers': 'event_num_finishers',\n",
    "    'Athlete performance': 'athlete_performance',\n",
    "    'Athlete club': 'athlete_club',\n",
    "    'Athlete country': 'athlete_country',\n",
    "    'Athlete year of birth': 'athlete_birth_year',\n",
    "    'Athlete gender': 'athlete_gender',\n",
    "    'Athlete age category': 'athlete_age_category',\n",
    "    'Athlete average speed': 'athlete_avg_speed',\n",
    "    'Athlete ID': 'athlete_id'\n",
    "}, axis=1)\n",
    "races['athlete_birth_year'] = races['athlete_birth_year'].astype('Int64', errors='ignore')\n",
    "races.info()"
   ]
  },
  {
   "cell_type": "markdown",
   "id": "873740c4-f642-4b9d-ae25-3ed248971f96",
   "metadata": {},
   "source": [
    "### 2. Itentify stage races and clean up distance"
   ]
  },
  {
   "cell_type": "code",
   "execution_count": 3,
   "id": "189bd6e3-d3ae-4b2a-aee1-ec9808f3d7b2",
   "metadata": {},
   "outputs": [],
   "source": [
    "races['stage_race'] = races['event_distance_or_length'].str.contains('Etappen')\n",
    "races['stage_days'] = races['event_distance_or_length'].str.extract(r'(\\d+)Etappen').astype('Int64')\n",
    "stage_pattern = re.compile(r'/\\d+Etappen')\n",
    "races['event_distance_or_length'] = races['event_distance_or_length'].str.replace(pat=stage_pattern,repl='',regex=True)\n",
    "races['event_distance_or_length'] = races['event_distance_or_length'].str.replace(pat=r'([mM]iles?)',repl='mi',regex=True)\n",
    "races['event_distance_or_length'] = races['event_distance_or_length'].str.replace(pat=r'[kK][mM]?',repl='km',regex=True)"
   ]
  },
  {
   "cell_type": "code",
   "execution_count": 4,
   "id": "6c76031d-b98a-48fd-9d04-01a94ea10f59",
   "metadata": {},
   "outputs": [
    {
     "data": {
      "text/plain": [
       "array(['50km', '63.9km', '50mi', ..., '2925.7mi', '355km', '2906.1mi'],\n",
       "      shape=(1593,), dtype=object)"
      ]
     },
     "execution_count": 4,
     "metadata": {},
     "output_type": "execute_result"
    }
   ],
   "source": [
    "races['distance_based'] = races['event_distance_or_length'].str.contains(r'(?:mi|km)')\n",
    "races[races['distance_based'] == True]['event_distance_or_length'].unique()"
   ]
  },
  {
   "cell_type": "markdown",
   "id": "b605049c-10be-4426-a13e-15d3973081ea",
   "metadata": {},
   "source": [
    "### 3. Extract Start and End Dates for multi-day events"
   ]
  },
  {
   "cell_type": "code",
   "execution_count": 5,
   "id": "524290d3-48b5-4876-8016-b6412685a8b2",
   "metadata": {},
   "outputs": [],
   "source": [
    "def extract_dates(datestring):\n",
    "    # datestring = row['event_dates']\n",
    "    matching = re.findall(r'(\\d+)',datestring)\n",
    "    end_date = matching[-3] + '/' + matching[-2] + '/' + matching[-1]\n",
    "    start_date = matching[0] + '/'\n",
    "    if len(matching) >= 5:\n",
    "        start_date += matching[1] + '/'\n",
    "    else:\n",
    "        start_date += matching[-2] + '/'\n",
    "    if len(matching) == 6:\n",
    "        start_date += matching[2]\n",
    "    else:\n",
    "        start_date += matching[-1]\n",
    "    return start_date+'-'+end_date\n",
    "\n",
    "event_dates = races['event_dates'].apply(extract_dates)\n",
    "races[['start_date','end_date']] = event_dates.str.split('-',expand=True)"
   ]
  },
  {
   "cell_type": "markdown",
   "id": "adcbaa69-b683-4851-9533-44e404d3d835",
   "metadata": {},
   "source": [
    "### 4. Clean up event name and extract country code"
   ]
  },
  {
   "cell_type": "code",
   "execution_count": 6,
   "id": "9318e6ae-b29c-46d6-b5cb-6c016751237e",
   "metadata": {},
   "outputs": [],
   "source": [
    "races['event_country'] = races['event_name'].str.extract(r'\\((\\w{3})\\)')\n",
    "races['event_name'] = races['event_name'].str.extract(r'(^.+)\\([A-Z]{3}\\)$')"
   ]
  },
  {
   "cell_type": "code",
   "execution_count": 7,
   "id": "5400e2db-db7a-4f0c-bc15-57d9e916b85d",
   "metadata": {},
   "outputs": [
    {
     "data": {
      "text/plain": [
       "event_year                  7461195\n",
       "event_dates                 7461195\n",
       "event_name                  7459569\n",
       "event_distance_or_length    7460142\n",
       "event_num_finishers         7461195\n",
       "athlete_performance         7461193\n",
       "athlete_club                4634671\n",
       "athlete_country             7461192\n",
       "athlete_birth_year          6873034\n",
       "athlete_gender              7461188\n",
       "athlete_age_category        6876257\n",
       "athlete_avg_speed           7460971\n",
       "athlete_id                  7461195\n",
       "stage_race                  7460142\n",
       "stage_days                    91944\n",
       "distance_based              7460142\n",
       "start_date                  7461195\n",
       "end_date                    7461195\n",
       "event_country               7459569\n",
       "dtype: int64"
      ]
     },
     "execution_count": 7,
     "metadata": {},
     "output_type": "execute_result"
    }
   ],
   "source": [
    "races.count()"
   ]
  },
  {
   "cell_type": "markdown",
   "id": "34d34ed7-9a74-4284-bef4-5dd282386799",
   "metadata": {},
   "source": [
    "### 5. Pull out US races"
   ]
  },
  {
   "cell_type": "code",
   "execution_count": 8,
   "id": "e4d8d173-8f80-4fc7-ac3d-b3887f54898b",
   "metadata": {},
   "outputs": [
    {
     "name": "stdout",
     "output_type": "stream",
     "text": [
      "<class 'pandas.core.frame.DataFrame'>\n",
      "RangeIndex: 27277 entries, 0 to 27276\n",
      "Data columns (total 11 columns):\n",
      " #   Column                    Non-Null Count  Dtype \n",
      "---  ------                    --------------  ----- \n",
      " 0   event_year                27277 non-null  int64 \n",
      " 1   event_dates               27277 non-null  object\n",
      " 2   event_name                27277 non-null  object\n",
      " 3   event_distance_or_length  27277 non-null  object\n",
      " 4   event_num_finishers       27277 non-null  int64 \n",
      " 5   stage_race                27277 non-null  object\n",
      " 6   stage_days                123 non-null    Int64 \n",
      " 7   start_date                27277 non-null  object\n",
      " 8   end_date                  27277 non-null  object\n",
      " 9   event_country             27277 non-null  object\n",
      " 10  distance_based            27277 non-null  object\n",
      "dtypes: Int64(1), int64(2), object(8)\n",
      "memory usage: 2.3+ MB\n"
     ]
    }
   ],
   "source": [
    "us_race_results = races[(races['event_country'] == 'USA') & (races['event_year']>=1975)]\n",
    "us_races = us_race_results[[\n",
    "    'event_year',\n",
    "    'event_dates',\n",
    "    'event_name',\n",
    "    'event_distance_or_length',\n",
    "    'event_num_finishers',\n",
    "    'stage_race',\n",
    "    'stage_days',\n",
    "    'start_date',\n",
    "    'end_date',\n",
    "    'event_country',\n",
    "    'distance_based'\n",
    "]].drop_duplicates().reset_index().drop('index',axis=1)"
   ]
  },
  {
   "cell_type": "markdown",
   "id": "b5407e6b-0075-467c-9b8f-728ed1fd04a7",
   "metadata": {},
   "source": [
    "## Popularity of Ultramarathons in the US Since 1975"
   ]
  }
 ],
 "metadata": {
  "kernelspec": {
   "display_name": "my-virtualenv-name",
   "language": "python",
   "name": "my-virtualenv-name"
  },
  "language_info": {
   "codemirror_mode": {
    "name": "ipython",
    "version": 3
   },
   "file_extension": ".py",
   "mimetype": "text/x-python",
   "name": "python",
   "nbconvert_exporter": "python",
   "pygments_lexer": "ipython3",
   "version": "3.13.4"
  }
 },
 "nbformat": 4,
 "nbformat_minor": 5
}
